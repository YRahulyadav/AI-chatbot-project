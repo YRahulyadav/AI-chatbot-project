{
  "nbformat": 4,
  "nbformat_minor": 0,
  "metadata": {
    "colab": {
      "name": "Untitled0.ipynb",
      "provenance": []
    },
    "kernelspec": {
      "name": "python3",
      "display_name": "Python 3"
    }
  },
  "cells": [
    {
      "cell_type": "code",
      "metadata": {
        "id": "_AhovaqhNNPM",
        "colab_type": "code",
        "colab": {
          "base_uri": "https://localhost:8080/",
          "height": 52
        },
        "outputId": "76819132-67f5-4efa-dca0-27bf751c72ea"
      },
      "source": [
        "pip install nltk"
      ],
      "execution_count": 1,
      "outputs": [
        {
          "output_type": "stream",
          "text": [
            "Requirement already satisfied: nltk in /usr/local/lib/python3.6/dist-packages (3.2.5)\n",
            "Requirement already satisfied: six in /usr/local/lib/python3.6/dist-packages (from nltk) (1.12.0)\n"
          ],
          "name": "stdout"
        }
      ]
    },
    {
      "cell_type": "code",
      "metadata": {
        "id": "8p6dfc2YNg0g",
        "colab_type": "code",
        "colab": {
          "base_uri": "https://localhost:8080/",
          "height": 879
        },
        "outputId": "6e76e089-79c6-472b-c0ac-e2d52c7ce5a4"
      },
      "source": [
        "pip install newspaper3k\n"
      ],
      "execution_count": 3,
      "outputs": [
        {
          "output_type": "stream",
          "text": [
            "Collecting newspaper3k\n",
            "\u001b[?25l  Downloading https://files.pythonhosted.org/packages/d7/b9/51afecb35bb61b188a4b44868001de348a0e8134b4dfa00ffc191567c4b9/newspaper3k-0.2.8-py3-none-any.whl (211kB)\n",
            "\r\u001b[K     |█▌                              | 10kB 17.0MB/s eta 0:00:01\r\u001b[K     |███                             | 20kB 1.7MB/s eta 0:00:01\r\u001b[K     |████▋                           | 30kB 2.3MB/s eta 0:00:01\r\u001b[K     |██████▏                         | 40kB 1.7MB/s eta 0:00:01\r\u001b[K     |███████▊                        | 51kB 1.9MB/s eta 0:00:01\r\u001b[K     |█████████▎                      | 61kB 2.2MB/s eta 0:00:01\r\u001b[K     |██████████▉                     | 71kB 2.4MB/s eta 0:00:01\r\u001b[K     |████████████▍                   | 81kB 2.5MB/s eta 0:00:01\r\u001b[K     |██████████████                  | 92kB 2.8MB/s eta 0:00:01\r\u001b[K     |███████████████▌                | 102kB 2.8MB/s eta 0:00:01\r\u001b[K     |█████████████████               | 112kB 2.8MB/s eta 0:00:01\r\u001b[K     |██████████████████▋             | 122kB 2.8MB/s eta 0:00:01\r\u001b[K     |████████████████████▏           | 133kB 2.8MB/s eta 0:00:01\r\u001b[K     |█████████████████████▊          | 143kB 2.8MB/s eta 0:00:01\r\u001b[K     |███████████████████████▎        | 153kB 2.8MB/s eta 0:00:01\r\u001b[K     |████████████████████████▉       | 163kB 2.8MB/s eta 0:00:01\r\u001b[K     |██████████████████████████▍     | 174kB 2.8MB/s eta 0:00:01\r\u001b[K     |████████████████████████████    | 184kB 2.8MB/s eta 0:00:01\r\u001b[K     |█████████████████████████████▌  | 194kB 2.8MB/s eta 0:00:01\r\u001b[K     |███████████████████████████████ | 204kB 2.8MB/s eta 0:00:01\r\u001b[K     |████████████████████████████████| 215kB 2.8MB/s \n",
            "\u001b[?25hCollecting cssselect>=0.9.2\n",
            "  Downloading https://files.pythonhosted.org/packages/3b/d4/3b5c17f00cce85b9a1e6f91096e1cc8e8ede2e1be8e96b87ce1ed09e92c5/cssselect-1.1.0-py2.py3-none-any.whl\n",
            "Requirement already satisfied: lxml>=3.6.0 in /usr/local/lib/python3.6/dist-packages (from newspaper3k) (4.2.6)\n",
            "Requirement already satisfied: python-dateutil>=2.5.3 in /usr/local/lib/python3.6/dist-packages (from newspaper3k) (2.8.1)\n",
            "Collecting feedfinder2>=0.0.4\n",
            "  Downloading https://files.pythonhosted.org/packages/35/82/1251fefec3bb4b03fd966c7e7f7a41c9fc2bb00d823a34c13f847fd61406/feedfinder2-0.0.4.tar.gz\n",
            "Collecting tinysegmenter==0.3\n",
            "  Downloading https://files.pythonhosted.org/packages/17/82/86982e4b6d16e4febc79c2a1d68ee3b707e8a020c5d2bc4af8052d0f136a/tinysegmenter-0.3.tar.gz\n",
            "Collecting jieba3k>=0.35.1\n",
            "\u001b[?25l  Downloading https://files.pythonhosted.org/packages/a9/cb/2c8332bcdc14d33b0bedd18ae0a4981a069c3513e445120da3c3f23a8aaa/jieba3k-0.35.1.zip (7.4MB)\n",
            "\u001b[K     |████████████████████████████████| 7.4MB 9.3MB/s \n",
            "\u001b[?25hRequirement already satisfied: PyYAML>=3.11 in /usr/local/lib/python3.6/dist-packages (from newspaper3k) (3.13)\n",
            "Collecting tldextract>=2.0.1\n",
            "\u001b[?25l  Downloading https://files.pythonhosted.org/packages/fd/0e/9ab599d6e78f0340bb1d1e28ddeacb38c8bb7f91a1b0eae9a24e9603782f/tldextract-2.2.2-py2.py3-none-any.whl (48kB)\n",
            "\u001b[K     |████████████████████████████████| 51kB 7.9MB/s \n",
            "\u001b[?25hRequirement already satisfied: requests>=2.10.0 in /usr/local/lib/python3.6/dist-packages (from newspaper3k) (2.21.0)\n",
            "Requirement already satisfied: beautifulsoup4>=4.4.1 in /usr/local/lib/python3.6/dist-packages (from newspaper3k) (4.6.3)\n",
            "Collecting feedparser>=5.2.1\n",
            "\u001b[?25l  Downloading https://files.pythonhosted.org/packages/91/d8/7d37fec71ff7c9dbcdd80d2b48bcdd86d6af502156fc93846fb0102cb2c4/feedparser-5.2.1.tar.bz2 (192kB)\n",
            "\u001b[K     |████████████████████████████████| 194kB 43.4MB/s \n",
            "\u001b[?25hRequirement already satisfied: Pillow>=3.3.0 in /usr/local/lib/python3.6/dist-packages (from newspaper3k) (7.0.0)\n",
            "Requirement already satisfied: nltk>=3.2.1 in /usr/local/lib/python3.6/dist-packages (from newspaper3k) (3.2.5)\n",
            "Requirement already satisfied: six>=1.5 in /usr/local/lib/python3.6/dist-packages (from python-dateutil>=2.5.3->newspaper3k) (1.12.0)\n",
            "Requirement already satisfied: setuptools in /usr/local/lib/python3.6/dist-packages (from tldextract>=2.0.1->newspaper3k) (46.0.0)\n",
            "Requirement already satisfied: idna in /usr/local/lib/python3.6/dist-packages (from tldextract>=2.0.1->newspaper3k) (2.8)\n",
            "Collecting requests-file>=1.4\n",
            "  Downloading https://files.pythonhosted.org/packages/23/9c/6e63c23c39e53d3df41c77a3d05a49a42c4e1383a6d2a5e3233161b89dbf/requests_file-1.4.3-py2.py3-none-any.whl\n",
            "Requirement already satisfied: certifi>=2017.4.17 in /usr/local/lib/python3.6/dist-packages (from requests>=2.10.0->newspaper3k) (2019.11.28)\n",
            "Requirement already satisfied: urllib3<1.25,>=1.21.1 in /usr/local/lib/python3.6/dist-packages (from requests>=2.10.0->newspaper3k) (1.24.3)\n",
            "Requirement already satisfied: chardet<3.1.0,>=3.0.2 in /usr/local/lib/python3.6/dist-packages (from requests>=2.10.0->newspaper3k) (3.0.4)\n",
            "Building wheels for collected packages: feedfinder2, tinysegmenter, jieba3k, feedparser\n",
            "  Building wheel for feedfinder2 (setup.py) ... \u001b[?25l\u001b[?25hdone\n",
            "  Created wheel for feedfinder2: filename=feedfinder2-0.0.4-cp36-none-any.whl size=3357 sha256=e4a13547f74021ef7da99a288e28faf55557739fb46305afe93d0dd47d2a9be2\n",
            "  Stored in directory: /root/.cache/pip/wheels/de/03/ca/778e3a7a627e3d98836cc890e7cb40c7575424cfd3340f40ed\n",
            "  Building wheel for tinysegmenter (setup.py) ... \u001b[?25l\u001b[?25hdone\n",
            "  Created wheel for tinysegmenter: filename=tinysegmenter-0.3-cp36-none-any.whl size=13539 sha256=c8ad42650574a6c774070e60a65e5e64272ded29eca558c0b85317ef23648b9d\n",
            "  Stored in directory: /root/.cache/pip/wheels/81/2b/43/a02ede72324dd40cdd7ca53aad718c7710628e91b8b0dc0f02\n",
            "  Building wheel for jieba3k (setup.py) ... \u001b[?25l\u001b[?25hdone\n",
            "  Created wheel for jieba3k: filename=jieba3k-0.35.1-cp36-none-any.whl size=7398406 sha256=be2e15a412bf6abf013cf7d976121cbcdea923a3d37116dbee78c6907437d091\n",
            "  Stored in directory: /root/.cache/pip/wheels/83/15/9c/a3f1f67e7f7181170ad37d32e503c35da20627c013f438ed34\n",
            "  Building wheel for feedparser (setup.py) ... \u001b[?25l\u001b[?25hdone\n",
            "  Created wheel for feedparser: filename=feedparser-5.2.1-cp36-none-any.whl size=44940 sha256=65857360a7bcd8ff16933d85f7cb8e3ed1070b9040f98f77c48c63282192e86b\n",
            "  Stored in directory: /root/.cache/pip/wheels/8c/69/b7/f52763c41c5471df57703a0ef718a32a5e81ee35dcf6d4f97f\n",
            "Successfully built feedfinder2 tinysegmenter jieba3k feedparser\n",
            "Installing collected packages: cssselect, feedfinder2, tinysegmenter, jieba3k, requests-file, tldextract, feedparser, newspaper3k\n",
            "Successfully installed cssselect-1.1.0 feedfinder2-0.0.4 feedparser-5.2.1 jieba3k-0.35.1 newspaper3k-0.2.8 requests-file-1.4.3 tinysegmenter-0.3 tldextract-2.2.2\n"
          ],
          "name": "stdout"
        }
      ]
    },
    {
      "cell_type": "code",
      "metadata": {
        "id": "05HHTC0AOHwg",
        "colab_type": "code",
        "colab": {}
      },
      "source": [
        "from newspaper import Article\n",
        "import random\n",
        "import string\n",
        "from sklearn.feature_extraction.text import TfidfVectorizer\n",
        "from sklearn.metrics.pairwise import cosine_similarity\n",
        "import nltk\n",
        "import numpy as np\n",
        "import warnings\n"
      ],
      "execution_count": 0,
      "outputs": []
    },
    {
      "cell_type": "code",
      "metadata": {
        "id": "dTYKR17IOODl",
        "colab_type": "code",
        "colab": {}
      },
      "source": [
        "#Ignore Warning messages\n",
        "warnings.filterwarnings('ignore')"
      ],
      "execution_count": 0,
      "outputs": []
    },
    {
      "cell_type": "code",
      "metadata": {
        "id": "F6TTs0CNOb50",
        "colab_type": "code",
        "colab": {
          "base_uri": "https://localhost:8080/",
          "height": 105
        },
        "outputId": "30f46d4b-8a78-4258-bd85-695351c6767f"
      },
      "source": [
        "#Downloading packages \n",
        "nltk.download('punkt')\n",
        "nltk.download('wordnet')"
      ],
      "execution_count": 116,
      "outputs": [
        {
          "output_type": "stream",
          "text": [
            "[nltk_data] Downloading package punkt to /root/nltk_data...\n",
            "[nltk_data]   Package punkt is already up-to-date!\n",
            "[nltk_data] Downloading package wordnet to /root/nltk_data...\n",
            "[nltk_data]   Package wordnet is already up-to-date!\n"
          ],
          "name": "stdout"
        },
        {
          "output_type": "execute_result",
          "data": {
            "text/plain": [
              "True"
            ]
          },
          "metadata": {
            "tags": []
          },
          "execution_count": 116
        }
      ]
    },
    {
      "cell_type": "code",
      "metadata": {
        "id": "lDAqUPwAO1Hl",
        "colab_type": "code",
        "colab": {
          "base_uri": "https://localhost:8080/",
          "height": 442
        },
        "outputId": "812eff06-9cd3-494b-c45f-d80ff1665747"
      },
      "source": [
        "#Getting article url\n",
        "article = Article('https://telegra.ph/Coronaviruses-are-a-large-family-of-viruses-which-may-cause-illness-in-animals-or-humans-several-coronaviruses-are-known-to-caus-04-04')\n",
        "article.download()\n",
        "article.parse()\n",
        "article.nlp\n",
        "var1=article.text\n",
        "\n",
        "#printing variable\n",
        "print(var1)"
      ],
      "execution_count": 124,
      "outputs": [
        {
          "output_type": "stream",
          "text": [
            "Corona info\n",
            "\n",
            "\n",
            "\n",
            "Atiqueahmed\n",
            "\n",
            "\n",
            "\n",
            "corona virus or viruses are family of viruses which may cause illness in animals or humans several coronaviruses are known to cause respiratory infections ranging from the common cold to more severe diseases such as Middle East Respiratory Syndrome (MERS)\n",
            "\n",
            "COVID-19 is the infectious disease caused by the most recently discovered coronavirus. This new virus and disease were unknown before the outbreak began in Wuhan, China, in December 2019. The most common symptoms of corona virus or COVID-19 are fever, tiredness, and dry cough. Some patients may have aches and pains, nasal congestion, runny nose, sore throat or diarrhea. These symptoms are usually mild and begin gradually. Some people become infected but don’t develop any symptoms and don't feel unwell. Most people (about 80%) recover from the disease without needing special treatment. Around 1 out of every 6 people who gets COVID-19 becomes seriously ill and develops difficulty breathing. Older people, and those with underlying medical problems like high blood pressure, heart problems or diabetes, are more likely to develop serious illness. People with fever, cough and difficulty breathing should seek medical attention. People can catch COVID-19 from others who have the virus. The disease can spread from person to person through small droplets from the nose or mouth which are spread when a person with COVID-19 coughs or exhales. These droplets land on objects and surfaces around the person. Other people then catch COVID-19 by touching these objects or surfaces, then touching their eyes, nose or mouth. People can also catch COVID-19 if they breathe in droplets from a person with COVID-19 who coughs out or exhales droplets. This is why it is important to stay more than 1 meter (3 feet) away from a person who is sick. WHO is assessing ongoing research on the ways COVID-19 is spread and will continue to share updated findings. Studies to date suggest that the virus that causes COVID-19 is mainly transmitted through contact with respiratory droplets rather than through the air Only wear a mask if you are ill with COVID-19 symptoms (especially coughing) or looking after someone who may have COVID-19. Disposable face mask can only be used once. If you are not ill or looking after someone who is ill then you are wasting a mask. There is a world-wide shortage of masks, so WHO urges people to use masks wisely. The virus that causes COVID-19 is mainly transmitted through droplets generated when an infected person coughs, sneezes, or speaks. These droplets are too heavy to hang in the air. They quickly fall on floors or surfaces. You can be infected by breathing in the virus if you are within 1 metre of a person who has COVID-19, or by touching a contaminated surface and then touching your eyes, nose or mouth before washing your hands. No. Antibiotics do not work against viruses, they only work on bacterial infections. COVID-19 is caused by a virus, so antibiotics do not work. Antibiotics should not be used as a means of prevention or treatment of COVID-19. They should only be used as directed by a physician to treat a bacterial infection.\n",
            "\n",
            "\n",
            "\n",
            "\n",
            "\n",
            "\n",
            "\n",
            "\n",
            "\n",
            "\n",
            "\n",
            "\n"
          ],
          "name": "stdout"
        }
      ]
    },
    {
      "cell_type": "code",
      "metadata": {
        "id": "WA7WsHYMQcII",
        "colab_type": "code",
        "colab": {
          "base_uri": "https://localhost:8080/",
          "height": 54
        },
        "outputId": "5998897e-f5ac-4306-830a-b8226601b4c8"
      },
      "source": [
        "#tokenization\n",
        "text=var1\n",
        "sent_tokens=nltk.sent_tokenize(text) #converting the text into list of sentences \n",
        "#printing list of sentences\n",
        "print(sent_tokens)"
      ],
      "execution_count": 125,
      "outputs": [
        {
          "output_type": "stream",
          "text": [
            "['Corona info\\n\\n\\n\\nAtiqueahmed\\n\\n\\n\\ncorona virus or viruses are family of viruses which may cause illness in animals or humans several coronaviruses are known to cause respiratory infections ranging from the common cold to more severe diseases such as Middle East Respiratory Syndrome (MERS)\\n\\nCOVID-19 is the infectious disease caused by the most recently discovered coronavirus.', 'This new virus and disease were unknown before the outbreak began in Wuhan, China, in December 2019.', 'The most common symptoms of corona virus or COVID-19 are fever, tiredness, and dry cough.', 'Some patients may have aches and pains, nasal congestion, runny nose, sore throat or diarrhea.', 'These symptoms are usually mild and begin gradually.', \"Some people become infected but don’t develop any symptoms and don't feel unwell.\", 'Most people (about 80%) recover from the disease without needing special treatment.', 'Around 1 out of every 6 people who gets COVID-19 becomes seriously ill and develops difficulty breathing.', 'Older people, and those with underlying medical problems like high blood pressure, heart problems or diabetes, are more likely to develop serious illness.', 'People with fever, cough and difficulty breathing should seek medical attention.', 'People can catch COVID-19 from others who have the virus.', 'The disease can spread from person to person through small droplets from the nose or mouth which are spread when a person with COVID-19 coughs or exhales.', 'These droplets land on objects and surfaces around the person.', 'Other people then catch COVID-19 by touching these objects or surfaces, then touching their eyes, nose or mouth.', 'People can also catch COVID-19 if they breathe in droplets from a person with COVID-19 who coughs out or exhales droplets.', 'This is why it is important to stay more than 1 meter (3 feet) away from a person who is sick.', 'WHO is assessing ongoing research on the ways COVID-19 is spread and will continue to share updated findings.', 'Studies to date suggest that the virus that causes COVID-19 is mainly transmitted through contact with respiratory droplets rather than through the air Only wear a mask if you are ill with COVID-19 symptoms (especially coughing) or looking after someone who may have COVID-19.', 'Disposable face mask can only be used once.', 'If you are not ill or looking after someone who is ill then you are wasting a mask.', 'There is a world-wide shortage of masks, so WHO urges people to use masks wisely.', 'The virus that causes COVID-19 is mainly transmitted through droplets generated when an infected person coughs, sneezes, or speaks.', 'These droplets are too heavy to hang in the air.', 'They quickly fall on floors or surfaces.', 'You can be infected by breathing in the virus if you are within 1 metre of a person who has COVID-19, or by touching a contaminated surface and then touching your eyes, nose or mouth before washing your hands.', 'No.', 'Antibiotics do not work against viruses, they only work on bacterial infections.', 'COVID-19 is caused by a virus, so antibiotics do not work.', 'Antibiotics should not be used as a means of prevention or treatment of COVID-19.', 'They should only be used as directed by a physician to treat a bacterial infection.']\n"
          ],
          "name": "stdout"
        }
      ]
    },
    {
      "cell_type": "code",
      "metadata": {
        "id": "BHR0aznzRCzC",
        "colab_type": "code",
        "colab": {
          "base_uri": "https://localhost:8080/",
          "height": 72
        },
        "outputId": "e608fcc0-54ad-40c1-8f5b-219551499c17"
      },
      "source": [
        "#creating a dictionary(key:value)pair for removing punctuations\n",
        "remove_punct_dict = dict( (ord(punct),None)for punct in string.punctuation)\n",
        "\n",
        "#print punctuations \n",
        "print(string.punctuation)\n",
        "\n",
        "#print dictionary\n",
        "print(remove_punct_dict)"
      ],
      "execution_count": 126,
      "outputs": [
        {
          "output_type": "stream",
          "text": [
            "!\"#$%&'()*+,-./:;<=>?@[\\]^_`{|}~\n",
            "{33: None, 34: None, 35: None, 36: None, 37: None, 38: None, 39: None, 40: None, 41: None, 42: None, 43: None, 44: None, 45: None, 46: None, 47: None, 58: None, 59: None, 60: None, 61: None, 62: None, 63: None, 64: None, 91: None, 92: None, 93: None, 94: None, 95: None, 96: None, 123: None, 124: None, 125: None, 126: None}\n"
          ],
          "name": "stdout"
        }
      ]
    },
    {
      "cell_type": "code",
      "metadata": {
        "id": "whVS8VgHTsYI",
        "colab_type": "code",
        "colab": {
          "base_uri": "https://localhost:8080/",
          "height": 54
        },
        "outputId": "be92f5a6-65eb-4d89-bb1e-9450b5db506c"
      },
      "source": [
        "#Create a function to return list of lemmatized lowercase wordes without punctuations\n",
        "def normalize(text):\n",
        "  return nltk.word_tokenize(text.lower().translate(remove_punct_dict))\n",
        "#printing tokenisation text  \n",
        "print(normalize(text))"
      ],
      "execution_count": 127,
      "outputs": [
        {
          "output_type": "stream",
          "text": [
            "['corona', 'info', 'atiqueahmed', 'corona', 'virus', 'or', 'viruses', 'are', 'family', 'of', 'viruses', 'which', 'may', 'cause', 'illness', 'in', 'animals', 'or', 'humans', 'several', 'coronaviruses', 'are', 'known', 'to', 'cause', 'respiratory', 'infections', 'ranging', 'from', 'the', 'common', 'cold', 'to', 'more', 'severe', 'diseases', 'such', 'as', 'middle', 'east', 'respiratory', 'syndrome', 'mers', 'covid19', 'is', 'the', 'infectious', 'disease', 'caused', 'by', 'the', 'most', 'recently', 'discovered', 'coronavirus', 'this', 'new', 'virus', 'and', 'disease', 'were', 'unknown', 'before', 'the', 'outbreak', 'began', 'in', 'wuhan', 'china', 'in', 'december', '2019', 'the', 'most', 'common', 'symptoms', 'of', 'corona', 'virus', 'or', 'covid19', 'are', 'fever', 'tiredness', 'and', 'dry', 'cough', 'some', 'patients', 'may', 'have', 'aches', 'and', 'pains', 'nasal', 'congestion', 'runny', 'nose', 'sore', 'throat', 'or', 'diarrhea', 'these', 'symptoms', 'are', 'usually', 'mild', 'and', 'begin', 'gradually', 'some', 'people', 'become', 'infected', 'but', 'don', '’', 't', 'develop', 'any', 'symptoms', 'and', 'dont', 'feel', 'unwell', 'most', 'people', 'about', '80', 'recover', 'from', 'the', 'disease', 'without', 'needing', 'special', 'treatment', 'around', '1', 'out', 'of', 'every', '6', 'people', 'who', 'gets', 'covid19', 'becomes', 'seriously', 'ill', 'and', 'develops', 'difficulty', 'breathing', 'older', 'people', 'and', 'those', 'with', 'underlying', 'medical', 'problems', 'like', 'high', 'blood', 'pressure', 'heart', 'problems', 'or', 'diabetes', 'are', 'more', 'likely', 'to', 'develop', 'serious', 'illness', 'people', 'with', 'fever', 'cough', 'and', 'difficulty', 'breathing', 'should', 'seek', 'medical', 'attention', 'people', 'can', 'catch', 'covid19', 'from', 'others', 'who', 'have', 'the', 'virus', 'the', 'disease', 'can', 'spread', 'from', 'person', 'to', 'person', 'through', 'small', 'droplets', 'from', 'the', 'nose', 'or', 'mouth', 'which', 'are', 'spread', 'when', 'a', 'person', 'with', 'covid19', 'coughs', 'or', 'exhales', 'these', 'droplets', 'land', 'on', 'objects', 'and', 'surfaces', 'around', 'the', 'person', 'other', 'people', 'then', 'catch', 'covid19', 'by', 'touching', 'these', 'objects', 'or', 'surfaces', 'then', 'touching', 'their', 'eyes', 'nose', 'or', 'mouth', 'people', 'can', 'also', 'catch', 'covid19', 'if', 'they', 'breathe', 'in', 'droplets', 'from', 'a', 'person', 'with', 'covid19', 'who', 'coughs', 'out', 'or', 'exhales', 'droplets', 'this', 'is', 'why', 'it', 'is', 'important', 'to', 'stay', 'more', 'than', '1', 'meter', '3', 'feet', 'away', 'from', 'a', 'person', 'who', 'is', 'sick', 'who', 'is', 'assessing', 'ongoing', 'research', 'on', 'the', 'ways', 'covid19', 'is', 'spread', 'and', 'will', 'continue', 'to', 'share', 'updated', 'findings', 'studies', 'to', 'date', 'suggest', 'that', 'the', 'virus', 'that', 'causes', 'covid19', 'is', 'mainly', 'transmitted', 'through', 'contact', 'with', 'respiratory', 'droplets', 'rather', 'than', 'through', 'the', 'air', 'only', 'wear', 'a', 'mask', 'if', 'you', 'are', 'ill', 'with', 'covid19', 'symptoms', 'especially', 'coughing', 'or', 'looking', 'after', 'someone', 'who', 'may', 'have', 'covid19', 'disposable', 'face', 'mask', 'can', 'only', 'be', 'used', 'once', 'if', 'you', 'are', 'not', 'ill', 'or', 'looking', 'after', 'someone', 'who', 'is', 'ill', 'then', 'you', 'are', 'wasting', 'a', 'mask', 'there', 'is', 'a', 'worldwide', 'shortage', 'of', 'masks', 'so', 'who', 'urges', 'people', 'to', 'use', 'masks', 'wisely', 'the', 'virus', 'that', 'causes', 'covid19', 'is', 'mainly', 'transmitted', 'through', 'droplets', 'generated', 'when', 'an', 'infected', 'person', 'coughs', 'sneezes', 'or', 'speaks', 'these', 'droplets', 'are', 'too', 'heavy', 'to', 'hang', 'in', 'the', 'air', 'they', 'quickly', 'fall', 'on', 'floors', 'or', 'surfaces', 'you', 'can', 'be', 'infected', 'by', 'breathing', 'in', 'the', 'virus', 'if', 'you', 'are', 'within', '1', 'metre', 'of', 'a', 'person', 'who', 'has', 'covid19', 'or', 'by', 'touching', 'a', 'contaminated', 'surface', 'and', 'then', 'touching', 'your', 'eyes', 'nose', 'or', 'mouth', 'before', 'washing', 'your', 'hands', 'no', 'antibiotics', 'do', 'not', 'work', 'against', 'viruses', 'they', 'only', 'work', 'on', 'bacterial', 'infections', 'covid19', 'is', 'caused', 'by', 'a', 'virus', 'so', 'antibiotics', 'do', 'not', 'work', 'antibiotics', 'should', 'not', 'be', 'used', 'as', 'a', 'means', 'of', 'prevention', 'or', 'treatment', 'of', 'covid19', 'they', 'should', 'only', 'be', 'used', 'as', 'directed', 'by', 'a', 'physician', 'to', 'treat', 'a', 'bacterial', 'infection']\n"
          ],
          "name": "stdout"
        }
      ]
    },
    {
      "cell_type": "code",
      "metadata": {
        "id": "eaoIpFo0UrrO",
        "colab_type": "code",
        "colab": {}
      },
      "source": [
        "#keyword matching\n",
        "#Greetings input\n",
        "greetings_inputs=[\"hey\",\"hello\",\"hi\",\"sup\",\"greetings\",\"start\",\"wassup\",\"on\"]\n",
        "#Greetings responses from bot to user\n",
        "greetings_response=[\"hello dear!\",\"hey!\",\"hey there! welcome!\",\"hey,How r u\",\"hey there!\",\"hello ,This is covid19 help chatbot\",\"hey dude!wassup?\"]\n",
        "\n",
        "#Function to return random greeting response to users input\n",
        "def greetings(sentence):\n",
        "  #if users input is a greeting,then return a randomly chosen greetings response\n",
        "  for word in sentence.split():\n",
        "    if word.lower() in greetings_inputs:\n",
        "      return random.choice(greetings_response)"
      ],
      "execution_count": 0,
      "outputs": []
    },
    {
      "cell_type": "code",
      "metadata": {
        "id": "o6uF4QoTW5ik",
        "colab_type": "code",
        "colab": {}
      },
      "source": [
        "#Genrate response\n",
        "def response(user_response):\n",
        "   \n",
        "\n",
        "\n",
        "  #user_input as user input query variable\n",
        "  #user_response='What are symptomps of corona virus'\n",
        "\n",
        "  user_response=user_response.lower() #making response lower case\n",
        "\n",
        "  #print user queries\n",
        "  #print(user_response)\n",
        "\n",
        "  #chat bots reply for empty string\n",
        "  botty_response=''\n",
        "\n",
        "  #Append the users response ro the sentence list\n",
        "  sent_tokens.append(user_response)\n",
        "\n",
        "  #Print the sentence list after appending the users response\n",
        "  #print(sent_tokens)\n",
        "\n",
        "  #Creating a TfidfVectrorizer object\n",
        "  TfidfVec=TfidfVectorizer(tokenizer=normalize,stop_words='english')\n",
        "\n",
        "  #Convert text to a matrix of TF-IDf(Term frequency ,inverse document frequency) features\n",
        "  tfidf=TfidfVec.fit_transform(sent_tokens)\n",
        "\n",
        "  ##print TFIDf features\n",
        "  #print(tfidf)\n",
        "\n",
        "  #Get the measure of similarity(how much query and reponse is matching)\n",
        "  vals=cosine_similarity(tfidf[-1], tfidf)\n",
        "\n",
        "  #printing similarity scores\n",
        " #print(vals)\n",
        "\n",
        "  #get the index of most similar text for a reply to user by botty\n",
        "  idx=vals.argsort()[0][-2]\n",
        "\n",
        "  #Reduce the dimensionality of vals(making it as one list)\n",
        "  flat=vals.flatten()\n",
        "\n",
        "  #sorting the list in ascending order\n",
        "  flat.sort()\n",
        "\n",
        "  #Get the most similar score to users response\n",
        "  score=flat[-2]\n",
        "\n",
        "  #printing similarity score\n",
        "  #print(score)\n",
        "\n",
        "   #If the varibale 'score' is 0 then similar response does not exist\n",
        "  if(score==0):\n",
        "    botty_response=botty_response+\"Sorry for the Inconvenience,I dont understand that\"\n",
        "  else:\n",
        "    botty_response=botty_response+sent_tokens[idx]\n",
        "\n",
        "  #print chatbot response\n",
        "  #print(botty_response)\n",
        "\n",
        "  #Removing the user response from sentence token list\n",
        "  sent_tokens.remove(user_response)\n",
        "  return botty_response\n",
        "\n",
        "  \n"
      ],
      "execution_count": 0,
      "outputs": []
    },
    {
      "cell_type": "code",
      "metadata": {
        "id": "CrZx90wigtjP",
        "colab_type": "code",
        "colab": {}
      },
      "source": [
        "flag = True\n",
        "print(\"Chatbot: Iam a chatbot.I will answer your queries regarding corona virus.If you want to end this chat ,type bye.\")\n",
        "while(flag==True):\n",
        "  user_response=input()\n",
        "  user_response=user_response.lower()\n",
        "  if(user_response != 'bye'):\n",
        "    if(user_response=='thanks' or user_response=='thank you' or user_response=='thank u'):\n",
        "      flag=False\n",
        "      print(\"Chatbot:You are welcome!\")\n",
        "    else:\n",
        "      if(greetings(user_response)!=None):\n",
        "        print(\"Chatbot: \"+greetings(user_response))\n",
        "      else:\n",
        "        print(\"Chatbot: \"+response(user_response))\n",
        "    print()\n",
        "  else:\n",
        "    flag=False\n",
        "    print(\"Chatbot:Alright!See u later,take care!\")\n",
        "\n",
        "\n"
      ],
      "execution_count": 0,
      "outputs": []
    }
  ]
}